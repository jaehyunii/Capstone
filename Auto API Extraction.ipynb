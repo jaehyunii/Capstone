{
 "cells": [
  {
   "cell_type": "code",
   "execution_count": 71,
   "metadata": {},
   "outputs": [
    {
     "name": "stdout",
     "output_type": "stream",
     "text": [
      "주소입력C:\\Users\\br179\\Desktop\\ChromeSetup_1.exe\n"
     ]
    }
   ],
   "source": [
    "import pefile\n",
    "import pandas as pd\n",
    "\n",
    "path = input(\"주소입력\")\n",
    "\n",
    "pe = pefile.PE(path)\n",
    "\n",
    "file = open(\"APIList.txt\",'w')\n",
    "\n",
    "pe.parse_data_directories()\n",
    "\n",
    "file.write(\"api\"+\"\\n\")\n",
    "for entry in pe.DIRECTORY_ENTRY_IMPORT:\n",
    "    file.write (\"'\"+str(entry.dll)[2:]+\"\\n\")\n",
    "    for imp in entry.imports :\n",
    "        file.write (\"'\"+str(imp.name)[2:]+\"\\n\")\n",
    "        \n",
    "file.close()\n",
    "\n",
    "f1 = pd.read_csv('APIList.txt', delimiter = '\\t')\n",
    "csv1 = pd.read_csv(\"C:\\\\Users\\\\br179\\\\Desktop\\\\APItest2.csv\")\n",
    "csv1.drop(csv1.columns[0:1], axis='columns')\n",
    "\n",
    "finalcsv = pd.concat([csv1,f1],axis=1)\n",
    "finalcsv =finalcsv.drop(finalcsv.columns[0:1], axis='columns')\n",
    "finalcsv.to_csv(\"C:\\\\Users\\\\br179\\\\Desktop\\\\APItest2.csv\")"
   ]
  },
  {
   "cell_type": "code",
   "execution_count": null,
   "metadata": {},
   "outputs": [],
   "source": []
  }
 ],
 "metadata": {
  "kernelspec": {
   "display_name": "Python 3",
   "language": "python",
   "name": "python3"
  },
  "language_info": {
   "codemirror_mode": {
    "name": "ipython",
    "version": 3
   },
   "file_extension": ".py",
   "mimetype": "text/x-python",
   "name": "python",
   "nbconvert_exporter": "python",
   "pygments_lexer": "ipython3",
   "version": "3.7.4"
  }
 },
 "nbformat": 4,
 "nbformat_minor": 2
}
