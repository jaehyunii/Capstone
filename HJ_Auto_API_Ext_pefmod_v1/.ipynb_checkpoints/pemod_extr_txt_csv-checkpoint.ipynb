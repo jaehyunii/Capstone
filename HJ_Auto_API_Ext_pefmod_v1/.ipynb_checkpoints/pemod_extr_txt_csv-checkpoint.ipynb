{
 "cells": [
  {
   "cell_type": "code",
   "execution_count": 1,
   "metadata": {},
   "outputs": [
    {
     "name": "stdout",
     "output_type": "stream",
     "text": [
      "Requirement already satisfied: future in c:\\users\\seong\\anaconda3\\lib\\site-packages (0.18.2)\n",
      "Note: you may need to restart the kernel to use updated packages.\n"
     ]
    }
   ],
   "source": [
    "pip install future"
   ]
  },
  {
   "cell_type": "code",
   "execution_count": 2,
   "metadata": {},
   "outputs": [
    {
     "name": "stdout",
     "output_type": "stream",
     "text": [
      "Collecting pefile\n",
      "  Downloading pefile-2019.4.18.tar.gz (62 kB)\n",
      "Requirement already satisfied: future in c:\\users\\seong\\anaconda3\\lib\\site-packages (from pefile) (0.18.2)\n",
      "Building wheels for collected packages: pefile\n",
      "  Building wheel for pefile (setup.py): started\n",
      "  Building wheel for pefile (setup.py): finished with status 'done'\n",
      "  Created wheel for pefile: filename=pefile-2019.4.18-py3-none-any.whl size=60827 sha256=59c7d0930e5e3607f59eba84c3b7d40779db67091137b5c502e0c8985fa1638d\n",
      "  Stored in directory: c:\\users\\seong\\appdata\\local\\pip\\cache\\wheels\\e4\\0c\\b1\\8950a0d751fcd42dfd7943069545b33430408a50e5d8deef0c\n",
      "Successfully built pefile\n",
      "Installing collected packages: pefile\n",
      "Successfully installed pefile-2019.4.18\n",
      "Note: you may need to restart the kernel to use updated packages.\n"
     ]
    }
   ],
   "source": [
    "pip install pefile"
   ]
  },
  {
   "cell_type": "code",
   "execution_count": 370,
   "metadata": {},
   "outputs": [],
   "source": [
    "import pefile"
   ]
  },
  {
   "cell_type": "code",
   "execution_count": 371,
   "metadata": {},
   "outputs": [],
   "source": [
    "exe = pefile.PE('C:\\\\Program Files (x86)\\\\Sweet Home 3D\\\\SweetHome3D.exe')"
   ]
  },
  {
   "cell_type": "code",
   "execution_count": 372,
   "metadata": {},
   "outputs": [
    {
     "data": {
      "text/plain": [
       "<pefile.PE at 0x232c2186b88>"
      ]
     },
     "execution_count": 372,
     "metadata": {},
     "output_type": "execute_result"
    }
   ],
   "source": [
    "exe"
   ]
  },
  {
   "cell_type": "code",
   "execution_count": 373,
   "metadata": {},
   "outputs": [
    {
     "name": "stdout",
     "output_type": "stream",
     "text": [
      "4752\n"
     ]
    }
   ],
   "source": [
    "print (exe.OPTIONAL_HEADER.AddressOfEntryPoint)"
   ]
  },
  {
   "cell_type": "code",
   "execution_count": 374,
   "metadata": {},
   "outputs": [],
   "source": [
    "file = open(\"SweetHomeAPI.txt\",'w')"
   ]
  },
  {
   "cell_type": "code",
   "execution_count": 375,
   "metadata": {},
   "outputs": [],
   "source": [
    "exe.parse_data_directories()"
   ]
  },
  {
   "cell_type": "code",
   "execution_count": 376,
   "metadata": {},
   "outputs": [],
   "source": [
    "for entry in exe.DIRECTORY_ENTRY_IMPORT:\n",
    "    file.write (\"'\"+entry.dll.decode(\"utf-8\")+\"'\"+\",\")\n",
    "    for imp in entry.imports :\n",
    "        file.write (\"'\"+imp.name.decode(\"utf-8\")+\"'\"+\",\")"
   ]
  },
  {
   "cell_type": "code",
   "execution_count": 377,
   "metadata": {},
   "outputs": [],
   "source": [
    "file.close()"
   ]
  },
  {
   "cell_type": "code",
   "execution_count": 378,
   "metadata": {},
   "outputs": [],
   "source": [
    "f = open(\"SweetHomeAPI.txt\",'r')"
   ]
  },
  {
   "cell_type": "code",
   "execution_count": 379,
   "metadata": {},
   "outputs": [
    {
     "data": {
      "text/plain": [
       "<_io.TextIOWrapper name='SweetHomeAPI.txt' mode='r' encoding='cp949'>"
      ]
     },
     "execution_count": 379,
     "metadata": {},
     "output_type": "execute_result"
    }
   ],
   "source": [
    "f"
   ]
  },
  {
   "cell_type": "code",
   "execution_count": 380,
   "metadata": {},
   "outputs": [
    {
     "data": {
      "text/plain": [
       "[\"'ADVAPI32.DLL','RegCloseKey','RegEnumKeyExA','RegOpenKeyExA','RegQueryValueExA','KERNEL32.dll','CloseHandle','CreateMutexA','CreateProcessA','ExitProcess','FindResourceExA','FormatMessageA','GetCommandLineA','GetCurrentDirectoryA','GetCurrentProcess','GetEnvironmentVariableA','GetExitCodeProcess','GetLastError','GetModuleFileNameA','GetModuleHandleA','GetProcAddress','GetStartupInfoA','GlobalMemoryStatusEx','LoadResource','LocalFree','LockResource','SetEnvironmentVariableA','SetLastError','SetUnhandledExceptionFilter','WaitForSingleObject','msvcrt.dll','__getmainargs','__p__environ','__p__fmode','__set_app_type','_cexit','_chdir','_close','_findclose','_findfirst','_findnext','_iob','_itoa','_onexit','_open','_read','_setmode','_stat','atexit','atoi','fclose','fopen','fprintf','fwrite','memset','printf','puts','signal','strcat','strchr','strcmp','strcpy','strlen','strncat','strncpy','strpbrk','strrchr','strstr','strtok','SHELL32.DLL','ShellExecuteA','USER32.dll','CreateWindowExA','DispatchMessageA','EnumWindows','FindWindowExA','GetMessageA','GetSystemMetrics','GetWindowLongA','GetWindowRect','GetWindowTextA','GetWindowThreadProcessId','KillTimer','LoadImageA','MessageBoxA','PostQuitMessage','SendMessageA','SetForegroundWindow','SetTimer','SetWindowPos','ShowWindow','TranslateMessage','UpdateWindow',\"]"
      ]
     },
     "execution_count": 380,
     "metadata": {},
     "output_type": "execute_result"
    }
   ],
   "source": [
    "data = f.readlines()\n",
    "data_t=[]\n",
    "data"
   ]
  },
  {
   "cell_type": "code",
   "execution_count": 381,
   "metadata": {},
   "outputs": [],
   "source": [
    "for i in data:\n",
    "    data_t.append(i[:-1])"
   ]
  },
  {
   "cell_type": "code",
   "execution_count": 382,
   "metadata": {},
   "outputs": [
    {
     "data": {
      "text/plain": [
       "[\"'ADVAPI32.DLL','RegCloseKey','RegEnumKeyExA','RegOpenKeyExA','RegQueryValueExA','KERNEL32.dll','CloseHandle','CreateMutexA','CreateProcessA','ExitProcess','FindResourceExA','FormatMessageA','GetCommandLineA','GetCurrentDirectoryA','GetCurrentProcess','GetEnvironmentVariableA','GetExitCodeProcess','GetLastError','GetModuleFileNameA','GetModuleHandleA','GetProcAddress','GetStartupInfoA','GlobalMemoryStatusEx','LoadResource','LocalFree','LockResource','SetEnvironmentVariableA','SetLastError','SetUnhandledExceptionFilter','WaitForSingleObject','msvcrt.dll','__getmainargs','__p__environ','__p__fmode','__set_app_type','_cexit','_chdir','_close','_findclose','_findfirst','_findnext','_iob','_itoa','_onexit','_open','_read','_setmode','_stat','atexit','atoi','fclose','fopen','fprintf','fwrite','memset','printf','puts','signal','strcat','strchr','strcmp','strcpy','strlen','strncat','strncpy','strpbrk','strrchr','strstr','strtok','SHELL32.DLL','ShellExecuteA','USER32.dll','CreateWindowExA','DispatchMessageA','EnumWindows','FindWindowExA','GetMessageA','GetSystemMetrics','GetWindowLongA','GetWindowRect','GetWindowTextA','GetWindowThreadProcessId','KillTimer','LoadImageA','MessageBoxA','PostQuitMessage','SendMessageA','SetForegroundWindow','SetTimer','SetWindowPos','ShowWindow','TranslateMessage','UpdateWindow'\"]"
      ]
     },
     "execution_count": 382,
     "metadata": {},
     "output_type": "execute_result"
    }
   ],
   "source": [
    "data_t"
   ]
  },
  {
   "cell_type": "code",
   "execution_count": 383,
   "metadata": {},
   "outputs": [
    {
     "data": {
      "text/plain": [
       "list"
      ]
     },
     "execution_count": 383,
     "metadata": {},
     "output_type": "execute_result"
    }
   ],
   "source": [
    "type(data_t)\n",
    "type(data)"
   ]
  },
  {
   "cell_type": "code",
   "execution_count": 363,
   "metadata": {},
   "outputs": [
    {
     "data": {
      "text/plain": [
       "<function TextIOWrapper.close()>"
      ]
     },
     "execution_count": 363,
     "metadata": {},
     "output_type": "execute_result"
    }
   ],
   "source": [
    "f.close"
   ]
  },
  {
   "cell_type": "code",
   "execution_count": 364,
   "metadata": {},
   "outputs": [],
   "source": [
    "import pandas as pd\n",
    "f1 = pd.read_csv('SweetHomeAPI.txt', delimiter = ',')"
   ]
  },
  {
   "cell_type": "code",
   "execution_count": 365,
   "metadata": {},
   "outputs": [
    {
     "data": {
      "text/html": [
       "<div>\n",
       "<style scoped>\n",
       "    .dataframe tbody tr th:only-of-type {\n",
       "        vertical-align: middle;\n",
       "    }\n",
       "\n",
       "    .dataframe tbody tr th {\n",
       "        vertical-align: top;\n",
       "    }\n",
       "\n",
       "    .dataframe thead th {\n",
       "        text-align: right;\n",
       "    }\n",
       "</style>\n",
       "<table border=\"1\" class=\"dataframe\">\n",
       "  <thead>\n",
       "    <tr style=\"text-align: right;\">\n",
       "      <th></th>\n",
       "      <th>'ADVAPI32.DLL'</th>\n",
       "      <th>'RegCloseKey'</th>\n",
       "      <th>'RegEnumKeyExA'</th>\n",
       "      <th>'RegOpenKeyExA'</th>\n",
       "      <th>'RegQueryValueExA'</th>\n",
       "      <th>'KERNEL32.dll'</th>\n",
       "      <th>'CloseHandle'</th>\n",
       "      <th>'CreateMutexA'</th>\n",
       "      <th>'CreateProcessA'</th>\n",
       "      <th>'ExitProcess'</th>\n",
       "      <th>...</th>\n",
       "      <th>'MessageBoxA'</th>\n",
       "      <th>'PostQuitMessage'</th>\n",
       "      <th>'SendMessageA'</th>\n",
       "      <th>'SetForegroundWindow'</th>\n",
       "      <th>'SetTimer'</th>\n",
       "      <th>'SetWindowPos'</th>\n",
       "      <th>'ShowWindow'</th>\n",
       "      <th>'TranslateMessage'</th>\n",
       "      <th>'UpdateWindow'</th>\n",
       "      <th>Unnamed: 93</th>\n",
       "    </tr>\n",
       "  </thead>\n",
       "  <tbody>\n",
       "  </tbody>\n",
       "</table>\n",
       "<p>0 rows × 94 columns</p>\n",
       "</div>"
      ],
      "text/plain": [
       "Empty DataFrame\n",
       "Columns: ['ADVAPI32.DLL', 'RegCloseKey', 'RegEnumKeyExA', 'RegOpenKeyExA', 'RegQueryValueExA', 'KERNEL32.dll', 'CloseHandle', 'CreateMutexA', 'CreateProcessA', 'ExitProcess', 'FindResourceExA', 'FormatMessageA', 'GetCommandLineA', 'GetCurrentDirectoryA', 'GetCurrentProcess', 'GetEnvironmentVariableA', 'GetExitCodeProcess', 'GetLastError', 'GetModuleFileNameA', 'GetModuleHandleA', 'GetProcAddress', 'GetStartupInfoA', 'GlobalMemoryStatusEx', 'LoadResource', 'LocalFree', 'LockResource', 'SetEnvironmentVariableA', 'SetLastError', 'SetUnhandledExceptionFilter', 'WaitForSingleObject', 'msvcrt.dll', '__getmainargs', '__p__environ', '__p__fmode', '__set_app_type', '_cexit', '_chdir', '_close', '_findclose', '_findfirst', '_findnext', '_iob', '_itoa', '_onexit', '_open', '_read', '_setmode', '_stat', 'atexit', 'atoi', 'fclose', 'fopen', 'fprintf', 'fwrite', 'memset', 'printf', 'puts', 'signal', 'strcat', 'strchr', 'strcmp', 'strcpy', 'strlen', 'strncat', 'strncpy', 'strpbrk', 'strrchr', 'strstr', 'strtok', 'SHELL32.DLL', 'ShellExecuteA', 'USER32.dll', 'CreateWindowExA', 'DispatchMessageA', 'EnumWindows', 'FindWindowExA', 'GetMessageA', 'GetSystemMetrics', 'GetWindowLongA', 'GetWindowRect', 'GetWindowTextA', 'GetWindowThreadProcessId', 'KillTimer', 'LoadImageA', 'MessageBoxA', 'PostQuitMessage', 'SendMessageA', 'SetForegroundWindow', 'SetTimer', 'SetWindowPos', 'ShowWindow', 'TranslateMessage', 'UpdateWindow', Unnamed: 93]\n",
       "Index: []\n",
       "\n",
       "[0 rows x 94 columns]"
      ]
     },
     "execution_count": 365,
     "metadata": {},
     "output_type": "execute_result"
    }
   ],
   "source": [
    "f1"
   ]
  },
  {
   "cell_type": "code",
   "execution_count": 366,
   "metadata": {},
   "outputs": [],
   "source": [
    "f1=f1.transpose()"
   ]
  },
  {
   "cell_type": "code",
   "execution_count": 367,
   "metadata": {},
   "outputs": [
    {
     "data": {
      "text/plain": [
       "pandas.core.frame.DataFrame"
      ]
     },
     "execution_count": 367,
     "metadata": {},
     "output_type": "execute_result"
    }
   ],
   "source": [
    "type(f1)"
   ]
  },
  {
   "cell_type": "code",
   "execution_count": 369,
   "metadata": {},
   "outputs": [],
   "source": [
    "f1.to_csv(\"C:\\\\Users\\\\Seong\\\\Jupyter_dir\\\\SweetHomeAPI.csv\")"
   ]
  },
  {
   "cell_type": "code",
   "execution_count": null,
   "metadata": {},
   "outputs": [],
   "source": []
  },
  {
   "cell_type": "code",
   "execution_count": null,
   "metadata": {},
   "outputs": [],
   "source": []
  },
  {
   "cell_type": "code",
   "execution_count": null,
   "metadata": {},
   "outputs": [],
   "source": []
  },
  {
   "cell_type": "code",
   "execution_count": null,
   "metadata": {},
   "outputs": [],
   "source": []
  }
 ],
 "metadata": {
  "kernelspec": {
   "display_name": "Python 3",
   "language": "python",
   "name": "python3"
  },
  "language_info": {
   "codemirror_mode": {
    "name": "ipython",
    "version": 3
   },
   "file_extension": ".py",
   "mimetype": "text/x-python",
   "name": "python",
   "nbconvert_exporter": "python",
   "pygments_lexer": "ipython3",
   "version": "3.7.6"
  }
 },
 "nbformat": 4,
 "nbformat_minor": 4
}
